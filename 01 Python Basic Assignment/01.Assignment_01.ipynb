{
 "cells": [
  {
   "cell_type": "markdown",
   "id": "8ae8d768",
   "metadata": {},
   "source": [
    "# Assignment 1 Solutions"
   ]
  },
  {
   "cell_type": "markdown",
   "id": "953e179c",
   "metadata": {},
   "source": [
    "#### 1. In the below elements which of them are values or an expression? **eg:-** values can be integer or string and expressions will be mathematical operators.  \n",
    "`*`,`'hello'`, `-87.8`,`-`,`/`,`+`,`6`\n",
    "\n",
    "**Ans:** There are a total of 4 Operators and 3 Expressions, They are:  \n",
    "**Operators:** `*`,`-`,`/`,`+`  \n",
    "**Expressions:** `'hello'`, `87.8`, `6`"
   ]
  },
  {
   "cell_type": "markdown",
   "id": "86a32a2b",
   "metadata": {},
   "source": [
    "#### 2. What is the difference between string and variable?\n",
    "**Ans:** A Variable is used to store of information, and a String is a type of information you would store in a Variable. \n",
    "         A String is a single character or group of characters usually enclosed in Double quotes `\" \"` or single quotes `' '`"
   ]
  },
  {
   "cell_type": "markdown",
   "id": "5e978a47",
   "metadata": {},
   "source": [
    "#### 3. Describe three different Data Types ?\n",
    "**Ans:** Three fundamental Data types in python are `int`, `float`, `complex`.\n",
    "1. **int data type**: We can use int data type to represent whole numbers (integral values)\n",
    "2. **float data type**: We can use float data type to represent floating point values (decimal values)\n",
    "3. **complex data type**: Complex number is represented by complex class. It is specified as (real part) + (imaginary part)j."
   ]
  },
  {
   "cell_type": "code",
   "execution_count": 4,
   "id": "b65d6fb8",
   "metadata": {},
   "outputs": [
    {
     "name": "stdout",
     "output_type": "stream",
     "text": [
      "1987 <class 'int'>\n",
      "13000.0 <class 'float'>\n",
      "(14+1.5j) <class 'complex'>\n"
     ]
    }
   ],
   "source": [
    "# Example for int data type\n",
    "int_num=1987\n",
    "print(int_num, type(int_num))\n",
    "# Example for float data type\n",
    "flo_num=1.3e4\n",
    "print(flo_num, type(flo_num))\n",
    "# Example for Complex data type\n",
    "com_num=14+1.5j\n",
    "print(com_num, type(com_num))"
   ]
  },
  {
   "cell_type": "markdown",
   "id": "c6670052",
   "metadata": {},
   "source": [
    "#### 4. What is an expression made up of? What do all expressions do?\n",
    "**Ans:** An expression is a combination of values, variables, operators, and calls to functions.\n",
    "    Expressions need to be evaluated. If we ask Python to print an expression, the interpreter \n",
    "    evaluates the expression and displays the result."
   ]
  },
  {
   "cell_type": "markdown",
   "id": "e101b518",
   "metadata": {},
   "source": [
    "#### 5.This assignment statements, like spam = 10. What is the difference between an expression and a statement?\n",
    "**Ans:** An expression is a combination of values, variables, and operators.When we type an expression at the prompt, \n",
    "the interpreter evaluates it, which means that it finds the value of the expression.\n",
    "\n",
    "**eg:** 2*5+40-40 is an example of a statement\n",
    "\n",
    "A statement is a unit of code that has an effect, like creating a variable or displaying a value.When we type a statement,\n",
    "the interpreter executes it, which means that it does whatever the statement says. In general, statements don’t have values.\n",
    "\n",
    "**eg:** variable declaration and assignment are statements because they do not return a value"
   ]
  },
  {
   "cell_type": "markdown",
   "id": "5db4de85",
   "metadata": {},
   "source": [
    "#### 6.After running the following code, what does the variable bacon contain?\n",
    "`bacon = 22`  \n",
    "`bacon + 1`\n",
    "\n",
    "**Ans:** The variable `bacon` is set to `22` .The expression `bacon + 1` does not reassign the value in"
   ]
  },
  {
   "cell_type": "code",
   "execution_count": 6,
   "id": "d3d3b2f2",
   "metadata": {},
   "outputs": [
    {
     "name": "stdout",
     "output_type": "stream",
     "text": [
      "22\n"
     ]
    }
   ],
   "source": [
    "# Example \n",
    "bacon=22\n",
    "bacon+1\n",
    "print(bacon)"
   ]
  },
  {
   "cell_type": "markdown",
   "id": "80a73e1f",
   "metadata": {},
   "source": [
    "#### 7.What should the values of the following two terms be?  \n",
    "`'spam'+'spamspam'`  \n",
    "`'spam'*3`"
   ]
  },
  {
   "cell_type": "code",
   "execution_count": 7,
   "id": "270cd28a",
   "metadata": {},
   "outputs": [
    {
     "name": "stdout",
     "output_type": "stream",
     "text": [
      "spamspamspam\n",
      "spamspamspam\n"
     ]
    }
   ],
   "source": [
    "print('spam'+'spamspam') # string concatenation\n",
    "print('spam'*3) # string multiplication"
   ]
  },
  {
   "cell_type": "markdown",
   "id": "a9667455",
   "metadata": {},
   "source": [
    "#### 8. Why is eggs a valid variable name while 100 is invalid?\n",
    "**Ans:** As per python,Variable names cannot begin with a number. "
   ]
  },
  {
   "cell_type": "markdown",
   "id": "e24cc5ef",
   "metadata": {},
   "source": [
    "#### 9.What three functions can be used to get the integer,floating-point number,or string version of a value?\n",
    "**Ans:** The `int()`,`float()`,and `str()` functions will evaluate to the integer,floating-point number,string version of the value passed to them."
   ]
  },
  {
   "cell_type": "code",
   "execution_count": 9,
   "id": "1be67210",
   "metadata": {},
   "outputs": [
    {
     "name": "stdout",
     "output_type": "stream",
     "text": [
      "int(10.0) ->  10\n",
      "float(10) ->  10.0\n",
      "str(10) ->  10\n"
     ]
    }
   ],
   "source": [
    "# Examples:\n",
    "print('int(10.0) -> ',int(10.0)) # int() function converts given input to int\n",
    "print('float(10) -> ',float(10)) # float() function converts given input to float\n",
    "print('str(10) -> ',str(10)) # str() function converts given input to string"
   ]
  },
  {
   "cell_type": "markdown",
   "id": "82736673",
   "metadata": {},
   "source": [
    "#### 10.Why does this expression cause an error? how can you fix it?  \n",
    "`'I have eaten ' + 99 + 'burritos.'`"
   ]
  },
  {
   "cell_type": "code",
   "execution_count": 14,
   "id": "deaa18bf",
   "metadata": {},
   "outputs": [
    {
     "name": "stdout",
     "output_type": "stream",
     "text": [
      "I have eaten 99 burritos\n"
     ]
    }
   ],
   "source": [
    "print('I have eaten '+str(99)+' burritos')"
   ]
  },
  {
   "cell_type": "code",
   "execution_count": null,
   "id": "5817a46d",
   "metadata": {},
   "outputs": [],
   "source": []
  }
 ],
 "metadata": {
  "kernelspec": {
   "display_name": "Python 3 (ipykernel)",
   "language": "python",
   "name": "python3"
  },
  "language_info": {
   "codemirror_mode": {
    "name": "ipython",
    "version": 3
   },
   "file_extension": ".py",
   "mimetype": "text/x-python",
   "name": "python",
   "nbconvert_exporter": "python",
   "pygments_lexer": "ipython3",
   "version": "3.9.7"
  }
 },
 "nbformat": 4,
 "nbformat_minor": 5
}
